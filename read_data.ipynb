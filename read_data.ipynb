{
 "cells": [
  {
   "cell_type": "code",
   "execution_count": 89,
   "metadata": {},
   "outputs": [],
   "source": [
    "import json\n",
    "from collections import Counter"
   ]
  },
  {
   "cell_type": "code",
   "execution_count": 90,
   "metadata": {},
   "outputs": [
    {
     "name": "stdout",
     "output_type": "stream",
     "text": [
      "loading TRAINING data...\n"
     ]
    }
   ],
   "source": [
    "def load_trn_data():\n",
    "    with open('./data/trn.txt','r') as f:\n",
    "        lines = f.readlines()\n",
    "    result = []\n",
    "    sent = []\n",
    "    for line in lines:\n",
    "        line = line.rstrip('\\n')\n",
    "        if line != '':\n",
    "            token = line.split('\\t')\n",
    "            sent.append(token)\n",
    "        else:\n",
    "            result.append(sent)\n",
    "            sent = []\n",
    "    return result\n",
    "\n",
    "print('loading TRAINING data...')\n",
    "trn = load_trn_data()"
   ]
  },
  {
   "cell_type": "code",
   "execution_count": 100,
   "metadata": {},
   "outputs": [],
   "source": [
    "def load_trn_nlp():\n",
    "    with open('./data/trn_nlp.conll','r') as f:\n",
    "        lines = f.readlines()\n",
    "    result = []\n",
    "    sent = []\n",
    "    for line in lines:\n",
    "        line = line.rstrip('\\n')\n",
    "        if line != '':\n",
    "            token = line.split('\\t')\n",
    "            sent.append(token)\n",
    "        else:\n",
    "            result.append(sent)\n",
    "            sent = []\n",
    "    return result\n",
    "\n",
    "trn_nlp = load_trn_nlp()\n",
    "\n",
    "def get_nlp_for_trn(idx):\n",
    "    return trn_nlp[idx]"
   ]
  }
 ],
 "metadata": {
  "kernelspec": {
   "display_name": "Python 3",
   "language": "python",
   "name": "python3"
  },
  "language_info": {
   "codemirror_mode": {
    "name": "ipython",
    "version": 3
   },
   "file_extension": ".py",
   "mimetype": "text/x-python",
   "name": "python",
   "nbconvert_exporter": "python",
   "pygments_lexer": "ipython3",
   "version": "3.6.5"
  }
 },
 "nbformat": 4,
 "nbformat_minor": 2
}
