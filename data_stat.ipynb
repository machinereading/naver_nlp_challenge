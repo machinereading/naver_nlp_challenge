{
 "cells": [
  {
   "cell_type": "code",
   "execution_count": 155,
   "metadata": {},
   "outputs": [],
   "source": [
    "import json\n",
    "import read_data\n",
    "from collections import Counter"
   ]
  },
  {
   "cell_type": "code",
   "execution_count": 159,
   "metadata": {},
   "outputs": [],
   "source": [
    "data = read_data.load_trn_data()"
   ]
  },
  {
   "cell_type": "code",
   "execution_count": 160,
   "metadata": {},
   "outputs": [],
   "source": [
    "def get_input_data(data):\n",
    "    result = []\n",
    "    for sent in data:\n",
    "        sent_list = []\n",
    "        \n",
    "        tok_idx = []\n",
    "        tok_str = []\n",
    "        tok_arg = []\n",
    "        for token in sent:\n",
    "            tok_idx.append(token[0])\n",
    "            tok_str.append(token[1])\n",
    "            tok_arg.append(token[2])\n",
    "            \n",
    "        sent_list.append(tok_idx)\n",
    "        sent_list.append(tok_str)\n",
    "        sent_list.append(tok_arg)\n",
    "        result.append(sent_list)\n",
    "    return result\n",
    "        \n",
    "input_data = get_input_data(data)"
   ]
  },
  {
   "cell_type": "code",
   "execution_count": 164,
   "metadata": {},
   "outputs": [
    {
     "name": "stdout",
     "output_type": "stream",
     "text": [
      "26\n",
      "124873\n",
      "Counter({'NP_SBJ': 41952, 'NP_OBJ': 37190, 'NP_AJT': 36104, 'NP_CMP': 2996, 'NP': 1188, 'VNP': 801, 'NP_MOD': 736, 'VP_AJT': 699, 'VP_OBJ': 639, 'VP': 634, 'NP_CNJ': 463, 'VP_SBJ': 368, 'VNP_OBJ': 276, 'AP': 182, 'VNP_MOD': 162, 'VP_MOD': 114, 'VNP_AJT': 104, 'VNP_CMP': 85, 'VNP_SBJ': 80, 'VP_CMP': 46, 'DP': 19, 'AP_AJT': 17, 'NP_INT': 12, 'IP': 4, 'AP_OBJ': 1, 'X': 1})\n"
     ]
    }
   ],
   "source": [
    "arg_pos = []\n",
    "for s_idx in range(len(input_data)):\n",
    "    sent = input_data[s_idx]\n",
    "    anno = sent[2]\n",
    "    args = []\n",
    "    for i in range(len(anno)):\n",
    "        a = anno[i]\n",
    "        if a !='-':\n",
    "            args.append(i)\n",
    "            \n",
    "    conll = read_data.get_nlp_for_trn(s_idx)\n",
    "\n",
    "    for i in args:\n",
    "        pos = conll[i][-1]\n",
    "        arg_pos.append(pos)\n",
    "\n",
    "print(len(list(set(arg_pos))))\n",
    "print(len(arg_pos))\n",
    "print(Counter(arg_pos))     "
   ]
  },
  {
   "cell_type": "code",
   "execution_count": null,
   "metadata": {},
   "outputs": [],
   "source": [
    "for s_idx in range(len(data)):\n",
    "    sent = data[s_idx]\n",
    "    conll = read_data.get_nlp_for_trn(s_idx)\n",
    "    \n",
    "    for t_idx in range(len(data)):\n",
    "        "
   ]
  },
  {
   "cell_type": "code",
   "execution_count": 119,
   "metadata": {},
   "outputs": [],
   "source": [
    "def get_head_tail(t_idx, conll):\n",
    "    tail = False\n",
    "    head_of_head_arc = False\n",
    "    head_arc = int(conll[t_idx][8])\n",
    "    head_of_head_arc = int(conll[head_arc][8])\n",
    "    head = conll[head_arc][-1]\n",
    "    \n",
    "    for i in range(len(conll)):\n",
    "        token = conll[i]\n",
    "        if int(token[8]) == t_idx:\n",
    "            child = token[-1]\n",
    "            child_arc = int(token[8])\n",
    "            if child.startswith('V'):\n",
    "                tail = child          \n",
    "                    \n",
    "    return head, tail"
   ]
  },
  {
   "cell_type": "code",
   "execution_count": 123,
   "metadata": {},
   "outputs": [
    {
     "name": "stdout",
     "output_type": "stream",
     "text": [
      "13\n",
      "123037\n",
      "Counter({'VP': 79093, 'VP_MOD': 36105, 'VP_OBJ': 1830, 'VP_CMP': 1744, 'VNP': 1653, 'VP_AJT': 1076, 'VP_SBJ': 576, 'VNP_CMP': 395, 'VNP_MOD': 321, 'VNP_OBJ': 145, 'VNP_AJT': 66, 'VNP_SBJ': 25, 'VP_CNJ': 8})\n",
      "11\n",
      "630\n",
      "Counter({'NP_AJT': 228, 'NP_SBJ': 125, 'NP': 117, 'NP_OBJ': 101, 'NP_MOD': 20, 'X': 14, 'NP_CNJ': 11, 'NP_CMP': 6, 'AP': 6, 'NP_PRN': 1, 'NP_INT': 1})\n",
      "121708\n",
      "1329\n",
      "630\n"
     ]
    }
   ],
   "source": [
    "pos_list = []\n",
    "neg_pos = []\n",
    "h,t,neg = 0,0,0\n",
    "for s_idx in range(len(data)):\n",
    "    sent = data[s_idx]\n",
    "    arg_tokens = []\n",
    "    \n",
    "    tokens = []\n",
    "    for t_idx in range(len(sent)):\n",
    "\n",
    "        \n",
    "        tok = sent[t_idx]\n",
    "        tokens.append(tok[1])\n",
    "        if tok[2] != '-':\n",
    "            arg_tokens.append(t_idx)\n",
    "    text = ' '.join(tokens)\n",
    "    conll = read_data.get_nlp_for_trn(s_idx)\n",
    "    \n",
    "    add = False\n",
    "    for t_idx in arg_tokens:\n",
    "        head, tail = get_head_tail(t_idx, conll)\n",
    "#         print(tail)\n",
    "        if head.startswith('V'):\n",
    "            pos = head\n",
    "            pos_list.append(pos)\n",
    "            add = True\n",
    "            h +=1\n",
    "        else:\n",
    "            if tail:\n",
    "                if tail.startswith('V'):\n",
    "                    pos = tail\n",
    "                    pos_list.append(pos)\n",
    "                    add = True\n",
    "                    t +=1\n",
    "        if add == False:\n",
    "            neg_pos.append(head)\n",
    "            neg +=1\n",
    "\n",
    "print(len(list(set(pos_list))))\n",
    "print(len(pos_list))\n",
    "print(Counter(pos_list))\n",
    "        \n",
    "print(len(list(set(neg_pos))))\n",
    "print(len(neg_pos))\n",
    "print(Counter(neg_pos))\n",
    "\n",
    "print(h)\n",
    "print(t)\n",
    "print(neg)"
   ]
  },
  {
   "cell_type": "code",
   "execution_count": 167,
   "metadata": {},
   "outputs": [],
   "source": [
    "def get_arg(t_idx, conll):\n",
    "    args = []\n",
    "    for i in range(len(conll)):\n",
    "        tok = conll[i]\n",
    "        if int(tok[8]) == t_idx:\n",
    "            arg_pos = tok[-1]\n",
    "            if arg_pos[:2] == 'NP':\n",
    "                args.append(i)\n",
    "    return args"
   ]
  },
  {
   "cell_type": "code",
   "execution_count": 166,
   "metadata": {},
   "outputs": [
    {
     "name": "stdout",
     "output_type": "stream",
     "text": [
      "NP\n"
     ]
    }
   ],
   "source": [
    "a = 'NP_SBJ'\n",
    "print(a[:2])"
   ]
  },
  {
   "cell_type": "code",
   "execution_count": 180,
   "metadata": {},
   "outputs": [
    {
     "name": "stdout",
     "output_type": "stream",
     "text": [
      "0.946590308866747\n"
     ]
    }
   ],
   "source": [
    "posi = list(set(pos_list))\n",
    "scores = 0\n",
    "n = 0\n",
    "for s_idx in range(len(data)):\n",
    "    sent = data[s_idx]\n",
    "    conll = read_data.get_nlp_for_trn(s_idx)\n",
    "    \n",
    "    verbs = []\n",
    "    for i in range(len(conll)):\n",
    "        tok = conll[i]\n",
    "        if tok[-1] in posi:\n",
    "            verbs.append(i)\n",
    "            \n",
    "    pred_args = []\n",
    "    for i in verbs:\n",
    "        args = get_arg(i, conll)\n",
    "        pred_args += args\n",
    "        \n",
    "    anno_args = []\n",
    "    for i in range(len(sent)):\n",
    "        tok = sent[i]\n",
    "#         print(tok)\n",
    "        arg = tok[2]\n",
    "#         print(arg)\n",
    "        if arg != '-':\n",
    "            anno_args.append(i)\n",
    "\n",
    "    \n",
    "    d = set(pred_args).intersection(anno_args)\n",
    "    e = set(anno_args).intersection(pred_args)\n",
    "    if len(d) == 0:\n",
    "        score = 0\n",
    "    else:\n",
    "        score = len(d) / len(anno_args)\n",
    "\n",
    "    scores += score\n",
    "    n += 1\n",
    "print(scores / n)"
   ]
  }
 ],
 "metadata": {
  "kernelspec": {
   "display_name": "Python 3",
   "language": "python",
   "name": "python3"
  },
  "language_info": {
   "codemirror_mode": {
    "name": "ipython",
    "version": 3
   },
   "file_extension": ".py",
   "mimetype": "text/x-python",
   "name": "python",
   "nbconvert_exporter": "python",
   "pygments_lexer": "ipython3",
   "version": "3.6.5"
  }
 },
 "nbformat": 4,
 "nbformat_minor": 2
}
